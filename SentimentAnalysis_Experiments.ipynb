{
 "cells": [
  {
   "cell_type": "code",
   "execution_count": 109,
   "metadata": {
    "collapsed": false
   },
   "outputs": [],
   "source": [
    "import pandas as pd \n",
    "import numpy as np\n",
    "import string, re\n",
    "import nltk\n",
    "from sklearn.feature_extraction.text import HashingVectorizer\n",
    "from sklearn.feature_extraction.text import TfidfVectorizer\n",
    "from sklearn.feature_extraction.text import CountVectorizer\n",
    "\n",
    "from sklearn.ensemble import RandomForestClassifier\n",
    "from sklearn.ensemble import GradientBoostingClassifier\n",
    "from sklearn.svm import LinearSVC\n",
    "\n",
    "from xgboost import XGBClassifier\n",
    "\n",
    "from time import time\n",
    "from matplotlib import pyplot as plt\n",
    "%matplotlib inline"
   ]
  },
  {
   "cell_type": "code",
   "execution_count": 2,
   "metadata": {
    "collapsed": false
   },
   "outputs": [],
   "source": [
    "data = pd.read_csv('Data/tweets.txt', sep = ';~;', engine='python')\n",
    "PositiveTweets = pd.read_csv('Data/tweetsPositive.txt', sep = ';~;', engine='python')\n",
    "NegativeTweets = pd.read_csv('Data/tweetsNegative.txt', sep = ';~;', engine='python')\n",
    "\n",
    "emoji_list = pd.read_csv('Data/emoji_table.txt', encoding='utf-8', index_col=0).index.values\n",
    "SentimentEmoji = pd.read_csv('Data/Emoji_classification.csv', encoding='utf-8').dropna()\n",
    "SentimentHashtags = pd.read_csv('Data/hashtags.csv', encoding='utf-8').dropna()\n",
    "\n",
    "## The test set for hillary\n",
    "hillaryTest = pd.read_csv('Hillary.csv')\n",
    "TrumpTest = pd.read_csv('Trump.csv')"
   ]
  },
  {
   "cell_type": "code",
   "execution_count": 3,
   "metadata": {
    "collapsed": false
   },
   "outputs": [],
   "source": [
    "# List of positive and negative tweets\n",
    "sad = [':‑(', ':(', ':‑c', ':c', ':‑<', ':<', ':‑[' ,':[', ':-||', '>:[', ':{', ':@', '>:(']\n",
    "Positive = [':‑)',':)', ':-]', ':]',':-3', ':3', ':->', ':>' ,'8-)', '8)',':-}', ':}', ':o)', ':c)', ':^)' ,'=]', '=)'\n",
    "           ,':‑D', ':D', '8‑D', '8D', 'x‑D', 'xD', 'X‑D', 'XD', '=D', '=3', 'B^D']\n",
    "SentimentHashtags['HashtagSentiment'] = SentimentHashtags['HashtagSentiment'].map({'Positive':1, 'Negative':-1})\n",
    "SentimentEmoji['Sentiment'] = SentimentEmoji['Sentiment'].map({'Positive':1, 'Negative':-1, 'Neutral':0}).dropna()\n",
    "SentimentHashtags['Directed'] = SentimentHashtags['Directed'].map({'T':1, 'H':0})\n",
    "hillaryTest.Sentiment = hillaryTest.Sentiment.map({'Positive':1, 'Negative':-1, 'Neutral':0})\n",
    "TrumpTest.Sentiment = TrumpTest.Sentiment.map({'Positive':1, 'Negative':-1, 'Neutral':0})"
   ]
  },
  {
   "cell_type": "code",
   "execution_count": 4,
   "metadata": {
    "collapsed": false
   },
   "outputs": [
    {
     "name": "stdout",
     "output_type": "stream",
     "text": [
      "Completed\n"
     ]
    }
   ],
   "source": [
    "stop_list = nltk.corpus.stopwords.words('english') + [\"rt\"] # rt - stands for retweet\n",
    "lemmatizer = nltk.stem.WordNetLemmatizer()\n",
    "\n",
    "# regex for capturing tweets\n",
    "reg = '(\\:\\w+\\:|\\<[\\/\\\\]?3|[\\(\\)\\\\\\D|\\*\\$][\\-\\^]?[\\:\\;\\=]|[\\:\\;\\=B8][\\-\\^]?[3DOPp\\@\\$\\*\\\\\\)\\(\\/\\|])(?=\\s|[\\!\\.\\?]|$)'\n",
    "emoticons = \"|\".join(map(re.escape, sad + Positive))\n",
    "\n",
    "emoji_pattern = re.compile(u'('\n",
    "    u'\\ud83c[\\udf00-\\udfff]|'\n",
    "    u'\\ud83d[\\udc00-\\ude4f\\ude80-\\udeff]|'\n",
    "    u'[\\u2600-\\u26FF\\u2700-\\u27BF])+', \n",
    "    re.UNICODE)\n",
    "classifier =[]\n",
    "def preprocess(tweet):\n",
    "    # only processing if the the value is a string\n",
    "    if type(tweet)!=type(2.0):\n",
    "        tweet = tweet.decode('latin-1').encode(\"utf-8\").decode('utf-8').strip()\n",
    "        tweet = tweet.lower()\n",
    "        # Removing hashtags\n",
    "        tweet = \" \".join(tweet.split('#'))\n",
    "        # Removing URLs\n",
    "        tweet = re.sub('((www\\.[^\\s]+)|(https://[^\\s]+))','',tweet)\n",
    "        tweet = re.sub('((pic\\.[^\\s]+)|(https://[^\\s]+))','',tweet)\n",
    "        tweet = re.sub(\"(http\\S+)|(https\\S+)\", '', tweet)\n",
    "        # Adding this pattern to the last cause it will remove everything after the start of a URL\n",
    "        tweet = re.sub(u'[a-zA-Z0-9./]+\\.[a-zA-Z0-9./ ]+.*$','',tweet)\n",
    "        \n",
    "        # Removing User mentions\n",
    "        tweet = re.sub('@[^\\s]+','',tweet)\n",
    "        tweet = tweet.strip('\\'\"')\n",
    "        # Removing stop words - This can be moved to count vectorization\n",
    "        # tweet  = \" \".join([word for word in tweet.split(\" \") if word not in stop_list])\n",
    "        # lemmatizing words \n",
    "        tweet = \" \".join([lemmatizer.lemmatize(word) for word in tweet.split(\" \")])\n",
    "    else:\n",
    "        tweet=''\n",
    "    return tweet\n",
    "\n",
    "def extractEmoticons(tweet):\n",
    "    # emoji = emoji_pattern.findall(tweet)\n",
    "    emoji = []\n",
    "    for emo in emoji_list:\n",
    "        if emo in tweet:\n",
    "            emoji.append(emo)\n",
    "    \n",
    "    # these are :) :-) and other stuff\n",
    "    emoticons = re.findall(reg, tweet)\n",
    "    return \" , \".join(emoji + emoticons)\n",
    "def removeEmoticons(tweet):\n",
    "    return re.sub(reg,'',tweet)\n",
    "\n",
    "#Processing the tweets\n",
    "data['processed_text'] = data.text.apply(preprocess)\n",
    "hillaryTest['processed_text'] = hillaryTest.processed_text.apply(preprocess)\n",
    "TrumpTest['processed_text'] = TrumpTest.processed_text.apply(preprocess)\n",
    "PositiveTweets['processed_text'] = PositiveTweets.text.apply(preprocess)\n",
    "NegativeTweets['processed_text'] = NegativeTweets.text.apply(preprocess)\n",
    "\n",
    "\n",
    "#getting the emoticons from the cleaned data\n",
    "data['emoticons'] = data['processed_text'].apply(extractEmoticons)\n",
    "\n",
    "# Removing emoticons from the text data\n",
    "data['processed_text'] = data['processed_text'].apply(removeEmoticons)\n",
    "\n",
    "data = data.append(PositiveTweets).append(NegativeTweets)\n",
    "print 'Completed'"
   ]
  },
  {
   "cell_type": "code",
   "execution_count": 10,
   "metadata": {
    "collapsed": false
   },
   "outputs": [
    {
     "name": "stderr",
     "output_type": "stream",
     "text": [
      "/Users/shashankbhushan/anaconda2/lib/python2.7/site-packages/ipykernel/__main__.py:1: UserWarning: This pattern has match groups. To actually get the groups, use str.extract.\n",
      "  if __name__ == '__main__':\n"
     ]
    }
   ],
   "source": [
    "HillaryTweets = data[data['processed_text'].str.contains('((hil.?ary)|(clinton))', case = False)]\n",
    "DonaldTweets = data[data['processed_text'].str.contains('trump', case = False)]\n",
    "\n",
    "datasets = [HillaryTweets.copy(), DonaldTweets.copy()]\n",
    "TrainSets = []\n",
    "for i, dataset in enumerate(datasets):\n",
    "    hashtags = datasets[i]['hashtags'].copy().str.split(' ').apply(pd.Series, 1).stack()\n",
    "    hashtags.index = hashtags.index.droplevel(-1)\n",
    "    datasets[i].drop('hashtags', axis=1, inplace=True)\n",
    "    hashtags.name = 'hashtags'\n",
    "    \n",
    "    datasets[i] = datasets[i].join(hashtags.str.strip())\n",
    "    \n",
    "    emoticons = datasets[i]['emoticons'].copy().str.split(' ').apply(pd.Series, 1).stack()\n",
    "    emoticons.index = emoticons.index.droplevel(-1)\n",
    "    datasets[i].drop('emoticons', axis=1, inplace=True)\n",
    "    emoticons.name = 'emoticons'\n",
    "    datasets[i] = datasets[i].join(emoticons.str.strip())\n",
    "    \n",
    "    Directed_hashtags = SentimentHashtags[SentimentHashtags['Directed'] == i].copy() \n",
    "    Opp_hashtags = SentimentHashtags[SentimentHashtags['Directed'] != i].copy()\n",
    "    Opp_hashtags.loc[: ,'HashtagSentiment'] = Opp_hashtags.HashtagSentiment * -1;\n",
    "    Directed_hashtags = Directed_hashtags.append(Opp_hashtags)\n",
    "    \n",
    "    datasets[i] = pd.merge(datasets[i], Directed_hashtags, on = 'hashtags', how='outer')\n",
    "    datasets[i] = pd.merge(datasets[i], SentimentEmoji, on = 'emoticons', how='outer')\n",
    "    \n",
    "    sentiments_num = [-1, 0, 1]\n",
    "    HashtagsSentiments = []\n",
    "    EmoticonsSentiments = []\n",
    "    for senti in sentiments_num:\n",
    "        temp_hashtag = datasets[i][datasets[i].HashtagSentiment == senti]\n",
    "        temp_emoticon = datasets[i][datasets[i].Sentiment == senti]\n",
    "        temp_hashtag = temp_hashtag[['processed_text','HashtagSentiment']].dropna().groupby(['processed_text']).count().reset_index()\n",
    "        temp_hashtag.columns = ['processed_text','HashtagSentiment_'+str(senti)]\n",
    "        temp_emoticon = temp_emoticon[['processed_text','Sentiment']].dropna().groupby(['processed_text']).count().reset_index()\n",
    "        temp_emoticon.columns = ['processed_text','Sentiment_'+str(senti)]\n",
    "        HashtagsSentiments.append(temp_hashtag)\n",
    "        EmoticonsSentiments.append(temp_emoticon)\n",
    "    TrainSets.append(datasets[i])\n",
    "    datasets[i] = pd.DataFrame(datasets[i]['processed_text'].unique())\n",
    "    datasets[i].columns = ['processed_text']\n",
    "    \n",
    "    for count in HashtagsSentiments:\n",
    "        datasets[i] = pd.merge(datasets[i], count, on='processed_text', how = 'outer')\n",
    "    for count in EmoticonsSentiments:\n",
    "        datasets[i] = pd.merge(datasets[i], count, on='processed_text', how = 'outer')\n",
    "    #TrainSets.append(datasets[i][['username', 'date', 'processed_text', 'Sentiment']].dropna().groupby(['processed_text', 'Sentiment']).max().reset_index())"
   ]
  },
  {
   "cell_type": "code",
   "execution_count": 11,
   "metadata": {
    "collapsed": false
   },
   "outputs": [],
   "source": [
    "datasets[0] = datasets[0].fillna(0)\n",
    "datasets[1] = datasets[1].fillna(0)\n",
    "def calculate_sentiment(row):\n",
    "    neg = row['HashtagSentiment_-1'] + row['Sentiment_-1']\n",
    "    neu = row.HashtagSentiment_0 + row.Sentiment_0\n",
    "    pos = row.HashtagSentiment_1 + row.Sentiment_1\n",
    "    if((neg == neu) and (neu == pos) and (pos == 0.0)):\n",
    "        return -2\n",
    "    if(neg > neu and neg > pos):\n",
    "        return -1\n",
    "    elif (neu > neg and neu > pos):\n",
    "        return 0\n",
    "    elif (pos > neg and pos > neu):\n",
    "        return 1\n",
    "    else:\n",
    "        return 3\n",
    "datasets[0]['finalSentiment'] = datasets[0].apply(calculate_sentiment, axis = 1)\n",
    "datasets[1]['finalSentiment'] = datasets[1].apply(calculate_sentiment, axis = 1)"
   ]
  },
  {
   "cell_type": "markdown",
   "metadata": {},
   "source": [
    "## Things to remember about the test dataset:\n",
    "1. They do not contain emoticons. We used all the tweets with emoticons for training as they were very less\n",
    "\n",
    "## Things to try out\n",
    "1. Once features are completed we can try and use ensembling techniques\n",
    "2. Run the best model on the remaining dataset to get a popularity score of the candidates - DONE\n",
    "3. Plot the prediction as a time series plot using the date column"
   ]
  },
  {
   "cell_type": "code",
   "execution_count": 141,
   "metadata": {
    "collapsed": false
   },
   "outputs": [
    {
     "name": "stdout",
     "output_type": "stream",
     "text": [
      "Prediction accuracy for Hillary\n",
      "The score for Vectorizer: Count Vectorizer , Model: Linear SVC 46 72\n"
     ]
    }
   ],
   "source": [
    "print 'Prediction accuracy for Hillary'\n",
    "HillaryVectorizer = ''\n",
    "HillaryModel = ''\n",
    "data_train = datasets[0][~((datasets[0].finalSentiment == 3) | (datasets[0].finalSentiment == -2))][['processed_text','finalSentiment']].copy().dropna()\n",
    "vectorizers = [TfidfVectorizer(stop_words=stop_list,ngram_range = (1,3)), TfidfVectorizer(stop_words=stop_list),\n",
    "               CountVectorizer(stop_words=stop_list,ngram_range = (1,3)), CountVectorizer(stop_words=stop_list),\n",
    "               HashingVectorizer(stop_words=stop_list,ngram_range = (1,3)), HashingVectorizer(stop_words=stop_list),]\n",
    "vectorizersName = ['TF-IDF', 'TF-IDF with out ngram', 'Count Vectorizer', 'Count Vectorizer with out ngram',\n",
    "                  'Hash Vectorizer', 'Hash Vectorizer with out ngram']\n",
    "for k, vectorizer in enumerate(vectorizers):\n",
    "    HillaryVectorizer = vectorizer.fit(data_train.processed_text.append(hillaryTest.processed_text))\n",
    "    X = HillaryVectorizer.transform(data_train.processed_text.append(hillaryTest.processed_text))\n",
    "    X_train = X[0:data_train.processed_text.shape[0]]\n",
    "    Y_train = data_train['finalSentiment']\n",
    "    X_test = X[data_train.processed_text.shape[0]:]\n",
    "    models = [RandomForestClassifier(), LinearSVC(), GradientBoostingClassifier()]\n",
    "    modelsName = ['RandomForest','Linear SVC', 'GradientBoost']\n",
    "    for m, model in enumerate(models):\n",
    "        model.fit(X_train, Y_train)\n",
    "        HillaryModel = model\n",
    "        preds = model.predict(X_test.todense())\n",
    "        score = 0\n",
    "        tot = 0\n",
    "        for i, pred in enumerate(preds):\n",
    "            if(hillaryTest.Sentiment[i] == hillaryTest.Sentiment[i]):\n",
    "                tot+=1\n",
    "                if(hillaryTest.Sentiment[i] == pred):\n",
    "                    score+=1\n",
    "\n",
    "        print 'The score for Vectorizer:', vectorizersName[k],', Model:', modelsName[m], score, tot"
   ]
  },
  {
   "cell_type": "code",
   "execution_count": 139,
   "metadata": {
    "collapsed": false
   },
   "outputs": [
    {
     "name": "stdout",
     "output_type": "stream",
     "text": [
      "Prediction accuracy for Donald Trump\n",
      "The score for Vectorizer: TF-IDF , Model: RandomForest 42 66\n",
      "The score for Vectorizer: TF-IDF , Model: Linear SVC 43 66\n",
      "The score for Vectorizer: TF-IDF , Model: GradientBoost 38 66\n",
      "The score for Vectorizer: TF-IDF with out ngram , Model: RandomForest 45 66\n",
      "The score for Vectorizer: TF-IDF with out ngram , Model: Linear SVC 46 66\n",
      "The score for Vectorizer: TF-IDF with out ngram , Model: GradientBoost 38 66\n",
      "The score for Vectorizer: Count Vectorizer , Model: RandomForest 40 66\n",
      "The score for Vectorizer: Count Vectorizer , Model: Linear SVC 40 66\n",
      "The score for Vectorizer: Count Vectorizer , Model: GradientBoost 38 66\n",
      "The score for Vectorizer: Count Vectorizer with out ngram , Model: RandomForest 32 66\n",
      "The score for Vectorizer: Count Vectorizer with out ngram , Model: Linear SVC 43 66\n",
      "The score for Vectorizer: Count Vectorizer with out ngram , Model: GradientBoost 38 66\n",
      "The score for Vectorizer: Hash Vectorizer , Model: RandomForest 40 66\n",
      "The score for Vectorizer: Hash Vectorizer , Model: Linear SVC 42 66\n",
      "The score for Vectorizer: Hash Vectorizer , Model: GradientBoost 38 66\n",
      "The score for Vectorizer: Hash Vectorizer with out ngram , Model: RandomForest 36 66\n",
      "The score for Vectorizer: Hash Vectorizer with out ngram , Model: Linear SVC 44 66\n",
      "The score for Vectorizer: Hash Vectorizer with out ngram , Model: GradientBoost 38 66\n"
     ]
    }
   ],
   "source": [
    "print 'Prediction accuracy for Donald Trump'\n",
    "DonaldVectorizer = ''\n",
    "DonaldModel = ''\n",
    "data_train = datasets[1][~((datasets[1].finalSentiment == 3) | (datasets[1].finalSentiment == -2))][['processed_text','finalSentiment']].copy().dropna()\n",
    "vectorizers = [TfidfVectorizer(stop_words=stop_list,ngram_range = (1,3)), TfidfVectorizer(stop_words=stop_list),\n",
    "               CountVectorizer(stop_words=stop_list,ngram_range = (1,3)), CountVectorizer(stop_words=stop_list),\n",
    "               HashingVectorizer(stop_words=stop_list,ngram_range = (1,3)), HashingVectorizer(stop_words=stop_list)]\n",
    "vectorizersName = ['TF-IDF', 'TF-IDF with out ngram', 'Count Vectorizer', 'Count Vectorizer with out ngram',\n",
    "                  'Hash Vectorizer', 'Hash Vectorizer with out ngram']\n",
    "for k, vectorizer in enumerate(vectorizers):\n",
    "    DonaldVectorizer = vectorizer.fit(data_train.processed_text.append(TrumpTest.processed_text))\n",
    "    X = DonaldVectorizer.transform(data_train.processed_text.append(TrumpTest.processed_text))\n",
    "    X_train = X[0:data_train.processed_text.shape[0]]\n",
    "    Y_train = data_train['finalSentiment']\n",
    "    X_test = X[data_train.processed_text.shape[0]:]\n",
    "    models = [RandomForestClassifier(), LinearSVC(), GradientBoostingClassifier()]\n",
    "    modelsName = ['RandomForest','Linear SVC', 'GradientBoost']\n",
    "    for m, model in enumerate(models):\n",
    "        model.fit(X_train, Y_train)\n",
    "        DonaldModel = model\n",
    "        preds = model.predict(X_test.todense())\n",
    "        score = 0\n",
    "        tot = 0\n",
    "        for i, pred in enumerate(preds):\n",
    "            if(TrumpTest.Sentiment[i] == TrumpTest.Sentiment[i]):\n",
    "                tot+=1\n",
    "                if(TrumpTest.Sentiment[i] == pred):\n",
    "                    score+=1\n",
    "\n",
    "        print 'The score for Vectorizer:', vectorizersName[k],', Model:', modelsName[m], score, tot\n"
   ]
  },
  {
   "cell_type": "code",
   "execution_count": null,
   "metadata": {
    "collapsed": true
   },
   "outputs": [],
   "source": [
    "###### import logging\n",
    "from gensim.models import word2vec\n",
    "\n",
    "def get_words(tweet):\n",
    "    return tweet.split(' ')\n",
    "tweets = pd.Series(data['processed_text'].unique()).apply(get_words)\n",
    "\n",
    "logging.basicConfig(format='%(asctime)s : %(levelname)s : %(message)s',\\\n",
    "    level=logging.INFO)\n",
    "\n",
    "# Set values for various parameters\n",
    "num_features = 140    # Word vector dimensionality                      \n",
    "min_word_count = 10   # Minimum word count                        \n",
    "num_workers = 4       # Number of threads to run in parallel\n",
    "context = 10          # Context window size                                                                                    \n",
    "downsampling = 1e-3   # Downsample setting for frequent words\n",
    "\n",
    "# Initialize and train the model (this will take some time)\n",
    "\n",
    "print \"Training model...\"\n",
    "model = word2vec.Word2Vec(tweets, workers=num_workers, size=num_features, min_count = min_word_count, window = context,\n",
    "                          sample = downsampling)\n",
    "\n",
    "# If you don't plan to train the model any further, calling \n",
    "# init_sims will make the model much more memory-efficient.\n",
    "model.init_sims(replace=True)\n",
    "\n",
    "# It can be helpful to create a meaningful model name and \n",
    "# save the model for later use. You can load it later using Word2Vec.load()\n",
    "model_name = \"30features_40minwords_10context\"\n",
    "model.save(model_name)"
   ]
  },
  {
   "cell_type": "code",
   "execution_count": 142,
   "metadata": {
    "collapsed": false
   },
   "outputs": [
    {
     "name": "stdout",
     "output_type": "stream",
     "text": [
      "Analysing Hillary Clinton's popularity\n"
     ]
    }
   ],
   "source": [
    "def is_str(s):\n",
    "    return isinstance(s, basestring)\n",
    "print \"Analysing Hillary Clinton's popularity\"\n",
    "data_train = datasets[0][(datasets[0].finalSentiment == -2)][['processed_text']].copy().dropna()\n",
    "data_train['IsString'] = data_train.processed_text.apply(is_str)\n",
    "data_train_Hillary = data_train[data_train['IsString'] == True]['processed_text'].copy()\n",
    "X = HillaryVectorizer.transform(data_train_Hillary)\n",
    "preds_Hillary = HillaryModel.predict(X.todense())"
   ]
  },
  {
   "cell_type": "code",
   "execution_count": 70,
   "metadata": {
    "collapsed": false
   },
   "outputs": [
    {
     "name": "stdout",
     "output_type": "stream",
     "text": [
      "Analysing Donald Trump's popularity\n"
     ]
    }
   ],
   "source": [
    "print \"Analysing Donald Trump's popularity\"\n",
    "data_train = datasets[1][(datasets[1].finalSentiment == -2)][['processed_text']].copy().dropna()\n",
    "data_train['IsString'] = data_train.processed_text.apply(is_str)\n",
    "data_train_Donald = data_train[data_train['IsString'] == True]['processed_text'].copy()\n",
    "X = DonaldVectorizer.transform(data_train_Donald)\n",
    "preds_Donald = DonaldModel.predict(X.todense())"
   ]
  },
  {
   "cell_type": "code",
   "execution_count": 143,
   "metadata": {
    "collapsed": false
   },
   "outputs": [],
   "source": [
    "Date_Info = TrainSets[0][['date', 'processed_text']].drop_duplicates().dropna()\n",
    "Analysis_Hillary = pd.DataFrame(pd.Series(preds_Hillary))\n",
    "Analysis_Hillary['processed_text'] = data_train_Hillary #datasets[0][(datasets[0].finalSentiment == -2)][['processed_text']].copy().dropna()\n",
    "Analysis_Hillary = pd.merge(Analysis_Hillary, Date_Info, on = 'processed_text', how = 'inner')\n",
    "Analysis_Hillary.columns = ['Predicted Sentiment', 'processed_text', 'date']\n",
    "Analysis_Hillary['date'] = pd.to_datetime(Analysis_Hillary.date, format = '%Y-%m-%d %H:%M').dt.date\n",
    "Analysis_Hillary['Predicted Sentiment'] = Analysis_Hillary['Predicted Sentiment'].map({-1:'Negative', 0:'Neutral', 1:'Positive'})\n",
    "Analysis_Hillary = Analysis_Hillary[['date', 'Predicted Sentiment']]\n",
    "#Analysis_Hillary.columns = ['date', 'Predicted Sentiment', 'Count']"
   ]
  },
  {
   "cell_type": "code",
   "execution_count": 123,
   "metadata": {
    "collapsed": false
   },
   "outputs": [],
   "source": [
    "Date_Info = TrainSets[1][['date', 'processed_text']].drop_duplicates().dropna()\n",
    "Analysis_Donald = pd.DataFrame(pd.Series(preds_Donald))\n",
    "Analysis_Donald['processed_text'] = data_train_Donald #datasets[0][(datasets[0].finalSentiment == -2)][['processed_text']].copy().dropna()\n",
    "Analysis_Donald = pd.merge(Analysis_Donald, Date_Info, on = 'processed_text', how = 'inner')\n",
    "Analysis_Donald.columns = ['Predicted Sentiment', 'processed_text', 'date']\n",
    "Analysis_Donald['date'] = pd.to_datetime(Analysis_Donald.date, format = '%Y-%m-%d %H:%M').dt.date\n",
    "Analysis_Donald['Predicted Sentiment'] = Analysis_Donald['Predicted Sentiment'].map({-1:'Negative', 0:'Neutral', 1:'Positive'})\n",
    "Analysis_Donald = Analysis_Donald[['date', 'Predicted Sentiment']]"
   ]
  },
  {
   "cell_type": "code",
   "execution_count": 144,
   "metadata": {
    "collapsed": false
   },
   "outputs": [
    {
     "data": {
      "text/plain": [
       "<matplotlib.axes._subplots.AxesSubplot at 0x12a1eac10>"
      ]
     },
     "execution_count": 144,
     "metadata": {},
     "output_type": "execute_result"
    },
    {
     "data": {
      "image/png": "[encoded data removed]",
      "text/plain": [
       "<matplotlib.figure.Figure at 0x12a202610>"
      ]
     },
     "metadata": {},
     "output_type": "display_data"
    }
   ],
   "source": [
    "import seaborn as sns\n",
    "from datetime import datetime\n",
    "\n",
    "plt.figure(figsize = (18, 9))\n",
    "sns.countplot(x =\"date\", hue=\"Predicted Sentiment\",hue_order = ['Positive', 'Neutral', 'Negative'],\n",
    "              data=Analysis_Hillary[Analysis_Hillary.date >= datetime.strptime('2016-10-01', '%Y-%m-%d').date()].sort_values(by = 'date'))"
   ]
  },
  {
   "cell_type": "code",
   "execution_count": 145,
   "metadata": {
    "collapsed": false
   },
   "outputs": [
    {
     "data": {
      "text/plain": [
       "<matplotlib.axes._subplots.AxesSubplot at 0x12991b890>"
      ]
     },
     "execution_count": 145,
     "metadata": {},
     "output_type": "execute_result"
    },
    {
     "data": {
      "image/png": "[encoded data removed]",
      "text/plain": [
       "<matplotlib.figure.Figure at 0x12994f790>"
      ]
     },
     "metadata": {},
     "output_type": "display_data"
    }
   ],
   "source": [
    "plt.figure(figsize = (18, 9))\n",
    "sns.countplot(x =\"date\", hue=\"Predicted Sentiment\",hue_order = ['Positive', 'Neutral', 'Negative'],\n",
    "              data=Analysis_Donald[Analysis_Donald.date >= datetime.strptime('2016-10-01', '%Y-%m-%d').date()].sort_values(by = 'date'))"
   ]
  },
  {
   "cell_type": "code",
   "execution_count": 101,
   "metadata": {
    "collapsed": false
   },
   "outputs": [
    {
     "data": {
      "text/plain": [
       "(11375, 3)"
      ]
     },
     "execution_count": 101,
     "metadata": {},
     "output_type": "execute_result"
    }
   ],
   "source": [
    "Analysis_Donald[Analysis_Donald.date >= pd.]"
   ]
  },
  {
   "cell_type": "code",
   "execution_count": 130,
   "metadata": {
    "collapsed": false
   },
   "outputs": [
    {
     "data": {
      "text/plain": [
       "datetime.datetime(2016, 10, 1, 0, 0)"
      ]
     },
     "execution_count": 130,
     "metadata": {},
     "output_type": "execute_result"
    }
   ],
   "source": []
  },
  {
   "cell_type": "code",
   "execution_count": 51,
   "metadata": {
    "collapsed": false
   },
   "outputs": [],
   "source": [
    "temp = datasets[0][~((datasets[0].finalSentiment == 3) | (datasets[0].finalSentiment == -2))][['processed_text','finalSentiment']].copy().dropna()\n",
    "temp['IsString'] = temp.processed_text.apply(is_str)"
   ]
  },
  {
   "cell_type": "code",
   "execution_count": null,
   "metadata": {
    "collapsed": true
   },
   "outputs": [],
   "source": []
  }
 ],
 "metadata": {
  "anaconda-cloud": {},
  "kernelspec": {
   "display_name": "Python [Root]",
   "language": "python",
   "name": "Python [Root]"
  },
  "language_info": {
   "codemirror_mode": {
    "name": "ipython",
    "version": 2
   },
   "file_extension": ".py",
   "mimetype": "text/x-python",
   "name": "python",
   "nbconvert_exporter": "python",
   "pygments_lexer": "ipython2",
   "version": "2.7.12"
  }
 },
 "nbformat": 4,
 "nbformat_minor": 0
}
